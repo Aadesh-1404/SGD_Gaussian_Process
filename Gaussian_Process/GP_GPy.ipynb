{
 "cells": [
  {
   "cell_type": "code",
   "execution_count": 1,
   "metadata": {},
   "outputs": [
    {
     "name": "stderr",
     "output_type": "stream",
     "text": [
      "WARNING:absl:No GPU/TPU found, falling back to CPU. (Set TF_CPP_MIN_LOG_LEVEL=0 and rerun for more info.)\n"
     ]
    }
   ],
   "source": [
    "try:\n",
    "  import GPy\n",
    "except ModuleNotFoundError:\n",
    "  %pip install GPy\n",
    "  import GPy\n",
    "\n",
    "try:\n",
    "  import jax\n",
    "except ModuleNotFoundError:\n",
    "  %pip install jax \n",
    "  import jax\n",
    "\n",
    "import jax.numpy as jnp\n",
    "import jax\n",
    "key = jax.random.PRNGKey(42)\n",
    "jax.config.update(\"jax_enable_x64\", True)"
   ]
  },
  {
   "cell_type": "code",
   "execution_count": 2,
   "metadata": {},
   "outputs": [],
   "source": [
    "def data(num_points, test_points, key_, noise):\n",
    "\n",
    "  X =  jnp.linspace(-4, 4, num_points).reshape(-1,1) \n",
    "  y = jnp.sin(X)\n",
    "\n",
    "  test_points = 100\n",
    "  X_test =  jnp.linspace(-5, 5, test_points).reshape(-1,1) \n",
    "  y_test = jnp.sin(X_test)\n",
    "\n",
    "  if (noise):\n",
    "    y = y + jax.random.normal(key = key_, shape = (num_points, 1)) * noise**0.5\n",
    "    y_test = y_test + jax.random.normal(key = key_, shape = (test_points, 1)) * noise**0.5\n",
    "\n",
    "  return X, y , X_test, y_test"
   ]
  },
  {
   "cell_type": "code",
   "execution_count": 3,
   "metadata": {},
   "outputs": [
    {
     "name": "stdout",
     "output_type": "stream",
     "text": [
      "\n",
      "Name : GP regression\n",
      "Objective : 18.406155187083264\n",
      "Number of Parameters : 3\n",
      "Number of Optimization Parameters : 3\n",
      "Updates : True\n",
      "Parameters:\n",
      "  \u001b[1mGP_regression.         \u001b[0;0m  |  value  |  constraints  |  priors\n",
      "  \u001b[1mrbf.variance           \u001b[0;0m  |    1.0  |      +ve      |        \n",
      "  \u001b[1mrbf.lengthscale        \u001b[0;0m  |   1.33  |      +ve      |        \n",
      "  \u001b[1mGaussian_noise.variance\u001b[0;0m  |   0.45  |      +ve      |        \n"
     ]
    },
    {
     "data": {
      "text/plain": [
       "{'dataplot': [<matplotlib.collections.PathCollection at 0x7f8931cd36d0>],\n",
       " 'gpmean': [[<matplotlib.lines.Line2D at 0x7f8931cf4730>]],\n",
       " 'gpconfidence': [<matplotlib.collections.PolyCollection at 0x7f8931cf57e0>]}"
      ]
     },
     "execution_count": 3,
     "metadata": {},
     "output_type": "execute_result"
    },
    {
     "data": {
      "image/png": "[encoded data removed]",
      "text/plain": [
       "<Figure size 432x288 with 1 Axes>"
      ]
     },
     "metadata": {
      "needs_background": "light"
     },
     "output_type": "display_data"
    }
   ],
   "source": [
    "sigmaf = 1\n",
    "len_scale =  1.33\n",
    "kernel1 = GPy.kern.RBF(1, sigmaf, len_scale)\n",
    "kernel2= GPy.kern.StdPeriodic(1, 1, 1.2, 1.33)\n",
    "kernel = kernel1\n",
    "X, y, X_test, y_test = data(7, 100, key, noise = 1)\n",
    "model = GPy.models.GPRegression(X, y, kernel, normalizer=False) \n",
    "model.Gaussian_noise = 0.45\n",
    "model.noise_var = 0.45\n",
    "print(model)\n",
    "model.plot()"
   ]
  },
  {
   "cell_type": "markdown",
   "metadata": {},
   "source": [
    "The default values of the kernel parameters may not be optimal for the current data (for example, the confidence intervals seems too wide on the previous figure). A common approach is to find the values of the parameters that maximize the likelihood of the data. It as easy as calling m.optimize in GPy: The optimizer used is maximum likelihood by L-BFGS,  Limited-memory BFGS "
   ]
  },
  {
   "cell_type": "code",
   "execution_count": 4,
   "metadata": {},
   "outputs": [
    {
     "name": "stdout",
     "output_type": "stream",
     "text": [
      "Running L-BFGS-B (Scipy implementation) Code:\n",
      "  runtime   i      f              |g|        \n",
      "    00s05  0006   1.415662e+01   2.603728e-03 \n",
      "    00s08  0010   1.414958e+01   1.768315e-05 \n",
      "    00s11  0015   1.414944e+01   7.013962e-09 \n",
      "    00s14  0019   1.414944e+01   1.308912e-10 \n",
      "    00s14  0020   1.414944e+01   1.308912e-10 \n",
      "Runtime:     00s14\n",
      "Optimization status: Converged\n",
      "\n"
     ]
    },
    {
     "data": {
      "text/plain": [
       "<paramz.optimization.optimization.opt_lbfgsb at 0x7f89303d1930>"
      ]
     },
     "execution_count": 4,
     "metadata": {},
     "output_type": "execute_result"
    }
   ],
   "source": [
    "model.optimize(messages=True)#, max_iters=1e6)"
   ]
  },
  {
   "cell_type": "markdown",
   "metadata": {},
   "source": [
    "If we want to perform some restarts to try to improve the result of the optimization, we can use the optimize_restarts function. This selects random (drawn from N(0,1)) initializations for the parameter values, optimizes each, and sets the model to the best solution found."
   ]
  },
  {
   "cell_type": "code",
   "execution_count": 5,
   "metadata": {},
   "outputs": [
    {
     "name": "stdout",
     "output_type": "stream",
     "text": [
      "Optimization restart 1/10, f = 14.149436962843286\n",
      "Optimization restart 2/10, f = 14.149436914237233\n",
      "Optimization restart 3/10, f = 14.149436867626179\n",
      "Optimization restart 4/10, f = 14.149437128500127\n",
      "Optimization restart 5/10, f = 14.149437011772294\n",
      "Optimization restart 6/10, f = 14.149436971770196\n",
      "Optimization restart 7/10, f = 14.14943696202649\n",
      "Optimization restart 8/10, f = 14.149436903068736\n",
      "Optimization restart 9/10, f = 14.149436938591492\n",
      "Optimization restart 10/10, f = 14.149437105594146\n"
     ]
    },
    {
     "data": {
      "text/plain": [
       "[<paramz.optimization.optimization.opt_lbfgsb at 0x7f89303d1930>,\n",
       " <paramz.optimization.optimization.opt_lbfgsb at 0x7f89303d2290>,\n",
       " <paramz.optimization.optimization.opt_lbfgsb at 0x7f893030f2b0>,\n",
       " <paramz.optimization.optimization.opt_lbfgsb at 0x7f8931c7dd20>,\n",
       " <paramz.optimization.optimization.opt_lbfgsb at 0x7f8931c7ccd0>,\n",
       " <paramz.optimization.optimization.opt_lbfgsb at 0x7f8931c1ffd0>,\n",
       " <paramz.optimization.optimization.opt_lbfgsb at 0x7f89303d3220>,\n",
       " <paramz.optimization.optimization.opt_lbfgsb at 0x7f893030ffd0>,\n",
       " <paramz.optimization.optimization.opt_lbfgsb at 0x7f8931c1f430>,\n",
       " <paramz.optimization.optimization.opt_lbfgsb at 0x7f89303d3550>,\n",
       " <paramz.optimization.optimization.opt_lbfgsb at 0x7f89301dd630>]"
      ]
     },
     "execution_count": 5,
     "metadata": {},
     "output_type": "execute_result"
    }
   ],
   "source": [
    "model.optimize_restarts(num_restarts = 10)"
   ]
  },
  {
   "cell_type": "code",
   "execution_count": 6,
   "metadata": {},
   "outputs": [
    {
     "name": "stdout",
     "output_type": "stream",
     "text": [
      "\n",
      "Name : GP regression\n",
      "Objective : 14.149436867626179\n",
      "Number of Parameters : 3\n",
      "Number of Optimization Parameters : 3\n",
      "Updates : True\n",
      "Parameters:\n",
      "  \u001b[1mGP_regression.         \u001b[0;0m  |                value  |  constraints  |  priors\n",
      "  \u001b[1mrbf.variance           \u001b[0;0m  |   0.2765734954155967  |      +ve      |        \n",
      "  \u001b[1mrbf.lengthscale        \u001b[0;0m  |  0.18923419240586786  |      +ve      |        \n",
      "  \u001b[1mGaussian_noise.variance\u001b[0;0m  |   3.0595809334671245  |      +ve      |        \n"
     ]
    },
    {
     "data": {
      "text/plain": [
       "{'dataplot': [<matplotlib.collections.PathCollection at 0x7f8930206410>],\n",
       " 'gpmean': [[<matplotlib.lines.Line2D at 0x7f8930206d40>]],\n",
       " 'gpconfidence': [<matplotlib.collections.PolyCollection at 0x7f8930206f80>]}"
      ]
     },
     "execution_count": 6,
     "metadata": {},
     "output_type": "execute_result"
    },
    {
     "data": {
      "image/png": "[encoded data removed]",
      "text/plain": [
       "<Figure size 432x288 with 1 Axes>"
      ]
     },
     "metadata": {
      "needs_background": "light"
     },
     "output_type": "display_data"
    }
   ],
   "source": [
    "print(model)\n",
    "model.plot()"
   ]
  },
  {
   "cell_type": "code",
   "execution_count": null,
   "metadata": {},
   "outputs": [],
   "source": []
  }
 ],
 "metadata": {
  "interpreter": {
   "hash": "bac5cd8369f2802fee00999ac38f86cf956374f566eef0e0f4f3a44739612455"
  },
  "kernelspec": {
   "display_name": "Python 3.10.4 ('DeepGP')",
   "language": "python",
   "name": "python3"
  },
  "language_info": {
   "codemirror_mode": {
    "name": "ipython",
    "version": 3
   },
   "file_extension": ".py",
   "mimetype": "text/x-python",
   "name": "python",
   "nbconvert_exporter": "python",
   "pygments_lexer": "ipython3",
   "version": "3.10.4"
  },
  "orig_nbformat": 4
 },
 "nbformat": 4,
 "nbformat_minor": 2
}
