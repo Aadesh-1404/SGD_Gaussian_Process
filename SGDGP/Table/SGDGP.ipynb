{
 "cells": [
  {
   "cell_type": "code",
   "execution_count": 2,
   "metadata": {},
   "outputs": [],
   "source": [
    "try:\n",
    "  import distrax\n",
    "except ModuleNotFoundError:\n",
    "  %pip install distrax\n",
    "  import distrax\n",
    "try:\n",
    "  import jax\n",
    "except ModuleNotFoundError:\n",
    "  %pip install jax \n",
    "  import jax\n",
    "\n",
    "import jax.numpy as jnp\n",
    "try:\n",
    "  import matplotlib.pyplot as plt\n",
    "except ModuleNotFoundError:\n",
    "  %pip install matplotlib \n",
    "  import matplotlib.pyplot as plt\n",
    "\n",
    "jax.config.update(\"jax_enable_x64\", True)\n",
    "\n",
    "try:\n",
    "  import GPy\n",
    "except ModuleNotFoundError:\n",
    "  %pip install GPy\n",
    "  import GPy\n",
    "\n",
    "try:\n",
    "  from tqdm import tqdm\n",
    "except ModuleNotFoundError:\n",
    "  %pip install tqdm\n",
    "  from tqdm import tqdm\n",
    "\n",
    "try:\n",
    "  import tinygp\n",
    "except ModuleNotFoundError:\n",
    "  %pip install tinygp\n",
    "  import tinygp\n",
    "  \n",
    "try: \n",
    "  import jaxopt\n",
    "except ModuleNotFoundError:\n",
    "  %pip install jaxopt\n",
    "  import jaxopt\n",
    "\n",
    "import optax\n",
    "from sklearn.neighbors import NearestNeighbors\n",
    "\n",
    "try:\n",
    "  from pyDOE import *\n",
    "except ModuleNotFoundError:\n",
    "  ! pip install pyDOE\n",
    "  from pyDOE import *\n",
    "\n",
    "try:\n",
    "  from smt.sampling_methods import LHS\n",
    "except ModuleNotFoundError:\n",
    "   ! pip install smt\n",
    "   from smt.sampling_methods import LHS\n",
    "\n",
    "import pandas as pd\n",
    "import numpy as np\n",
    "\n",
    "import time\n",
    "import sklearn\n",
    "from tinygp import kernels, GaussianProcess\n",
    "from sklearn.preprocessing import StandardScaler\n",
    "from sklearn.model_selection import train_test_split\n",
    "\n",
    "from sklearn.metrics import mean_squared_error"
   ]
  },
  {
   "cell_type": "code",
   "execution_count": 3,
   "metadata": {},
   "outputs": [
    {
     "name": "stdout",
     "output_type": "stream",
     "text": [
      "gpu\n"
     ]
    }
   ],
   "source": [
    "from jax.lib import xla_bridge\n",
    "print(xla_bridge.get_backend().platform)"
   ]
  },
  {
   "cell_type": "code",
   "execution_count": 4,
   "metadata": {},
   "outputs": [
    {
     "name": "stdout",
     "output_type": "stream",
     "text": [
      "(6000, 4) (4000, 4)\n"
     ]
    }
   ],
   "source": [
    "dirname = \"../Datasets/Levy\"\n",
    "X_train = pd.read_csv(dirname+\"/X_train.csv.gz\").iloc[:,1:]\n",
    "X_test = pd.read_csv(dirname+\"/X_test.csv.gz\").iloc[:,1:]\n",
    "y_train = pd.read_csv(dirname+\"/y_train.csv.gz\").iloc[:,1:]\n",
    "y_test = pd.read_csv(dirname+\"/y_test.csv.gz\").iloc[:,1:]\n",
    "\n",
    "X_train, X_test = jnp.array(jnp.array([X_train])).squeeze(),jnp.array([X_test]).squeeze()\n",
    "y_train, y_test = jnp.array([y_train]).squeeze(),jnp.array([y_test]).squeeze() \n",
    "\n",
    "print(X_train.shape, X_test.shape)"
   ]
  },
  {
   "cell_type": "code",
   "execution_count": null,
   "metadata": {},
   "outputs": [],
   "source": [
    "def build_gp(theta_, x):\n",
    "  kernel = theta_[\"varf\"]*kernels.ExpSquared(scale=theta_[\"len_scale\"])\n",
    "  return GaussianProcess(kernel, x, diag = theta_[\"vary\"])\n",
    "\n",
    "def NLL(theta_, x, y):\n",
    "  gp = build_gp(theta_, x)\n",
    "  return -gp.log_probability(y)"
   ]
  },
  {
   "cell_type": "code",
   "execution_count": null,
   "metadata": {},
   "outputs": [],
   "source": [
    "# initial paramters\n",
    "max_iters = int(100)\n",
    "lr = 0.01\n",
    "nll_iters = []\n",
    "theta_init = {\"varf\": 1.,\"vary\": 1.,\"len_scale\": 1.}\n",
    "batch_size = 16\n",
    "\n",
    "start = time.time()\n",
    "nll_gradient = jax.value_and_grad(NLL, argnums = 0)\n",
    "\n",
    "# Using adam optimizer\n",
    "tx1 = optax.adam(lr)\n",
    "\n",
    "## Nearest Neighbour calculation\n",
    "neigh = NearestNeighbors(n_neighbors=32, algorithm='kd_tree')\n",
    "neigh.fit(X_train)\n",
    "_,neigh_idx = neigh.kneighbors(X_train, 32)\n",
    "\n",
    "fig, ax = plt.subplots(1,1,figsize=(14,6))\n",
    "\n",
    "for j in range(1):\n",
    " \n",
    "  if (len(X_train)%batch_size  == 0):\n",
    "    num_batches = int(len(X_train)/batch_size)\n",
    "  else:\n",
    "    num_batches = int((len(X_train)/batch_size)) + 1\n",
    "\n",
    "  key = jax.random.PRNGKey(42)\n",
    "  key_spl = jax.random.split(key,2)\n",
    "  random_number = jax.random.randint(key,(100,), 1, len(y_train))\n",
    "  random_number = np.asarray(random_number)\n",
    "  for i in tqdm(range(max_iters)):\n",
    "    \n",
    "    # X_, Y_ = sklearn.utils.shuffle(X_train, y_train, random_state = random_number[i])\n",
    "    # Y_ = Y_.reshape(-1,1)\n",
    "    # # print(X_.shape,Y_.shape)\n",
    "\n",
    "    # batch_index = 0\n",
    "    for k in range(num_batches):\n",
    "\n",
    "      opt_state1 = tx1.init((theta_init[\"len_scale\"]))\n",
    "      opt_state2 = tx1.init((theta_init[\"varf\"]))\n",
    "      opt_state3 = tx1.init((theta_init[\"vary\"]))\n",
    "\n",
    "      ## Random batches\n",
    "      # if batch_index+batch_size > len(X_):\n",
    "      #    X_batch, Y_batch = X_[batch_index:,:], Y_[batch_index:,:]\n",
    "      # else:\n",
    "      #   X_batch, Y_batch = X_[batch_index:batch_index+batch_size,:], Y_[batch_index:batch_index+batch_size,:]\n",
    "\n",
    "      # batch_index += batch_size\n",
    "\n",
    "      ## NN batches\n",
    "      center_idx  = jax.random.randint(key_spl[0],(1,), 1, len(y_train))\n",
    "      nn_batch_indices =  neigh_idx[center_idx,]\n",
    "      nn_batch_X  = X_train[nn_batch_indices,]\n",
    "      nn_batch_y  = y_train[nn_batch_indices,]\n",
    "  \n",
    "\n",
    "      # loss_rs,grads_rs = nll_gradient(theta_init,X_batch, Y_batch)\n",
    "      loss_nn,grads_nn = nll_gradient(theta_init,nn_batch_X, nn_batch_y)\n",
    "\n",
    "      nll_iters.append(loss_nn)\n",
    "\n",
    "      updates1,opt_state1 = tx1.update(grads_nn[\"len_scale\"], opt_state1)\n",
    "      theta_init[\"len_scale\"] = optax.apply_updates((theta_init[\"len_scale\"]), updates1)\n",
    "      updates2,opt_state2 = tx1.update(((batch_size*grads_nn[\"varf\"])/(3*jnp.log(batch_size))), opt_state2)\n",
    "      theta_init[\"varf\"] = optax.apply_updates((theta_init[\"varf\"]), updates2)\n",
    "      updates3,opt_state3 = tx1.update(grads_nn[\"vary\"], opt_state3)\n",
    "      theta_init[\"vary\"] = optax.apply_updates((theta_init[\"vary\"]), updates3)\n",
    "\n",
    "  end = time.time()\n",
    "  f = open(\"train.log\", \"a\")\n",
    "  f.write(\"Time taken for training model:SGDgp_levy\"+\"_\"+str(max_iters)+\".pt: \"+str(end-start)+\"\\n\")\n",
    "  f.close()\n",
    "  print(loss_nn)\n",
    "  plt.plot(nll_iters)\n",
    "  plt.savefig(\"levy_loss.png\")\n",
    "  \n",
    "print(theta_init[\"len_scale\"], theta_init[\"varf\"], theta_init[\"vary\"])"
   ]
  },
  {
   "cell_type": "code",
   "execution_count": null,
   "metadata": {},
   "outputs": [],
   "source": [
    "gp = build_gp(theta_init, X_train)\n",
    "y_pred = gp.condition(y_train, X_test).gp.loc.reshape(y_test.shape)\n",
    "pd.DataFrame([i.item() for i in y_pred]).to_csv(\"/results/table_levy\"+\"_\"+str(max_iters)+\".csv\")\n",
    "f = open(\"./logs/test.log\", \"a\")\n",
    "f.write(\"RMSE on test data for model  SGDgp_levy\"+\"_\"+str(max_iters)+\".pt: \"+str(mean_squared_error(y_pred,y_test)**0.5)+\"\\n\")\n",
    "f.close()"
   ]
  }
 ],
 "metadata": {
  "kernelspec": {
   "display_name": "Python 3.10.4 ('SGDGP')",
   "language": "python",
   "name": "python3"
  },
  "language_info": {
   "codemirror_mode": {
    "name": "ipython",
    "version": 3
   },
   "file_extension": ".py",
   "mimetype": "text/x-python",
   "name": "python",
   "nbconvert_exporter": "python",
   "pygments_lexer": "ipython3",
   "version": "3.10.4"
  },
  "orig_nbformat": 4,
  "vscode": {
   "interpreter": {
    "hash": "8ac03bc53b81f274766a4c3d65a8bb144021040a3f00168f019aaf215aad8e7f"
   }
  }
 },
 "nbformat": 4,
 "nbformat_minor": 2
}
