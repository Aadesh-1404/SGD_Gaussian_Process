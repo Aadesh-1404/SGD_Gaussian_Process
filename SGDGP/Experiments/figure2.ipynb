{
 "cells": [
  {
   "cell_type": "code",
   "execution_count": 5,
   "metadata": {},
   "outputs": [],
   "source": [
    "try:\n",
    "  import distrax\n",
    "except ModuleNotFoundError:\n",
    "  %pip install distrax\n",
    "  import distrax\n",
    "try:\n",
    "  import jax\n",
    "except ModuleNotFoundError:\n",
    "  %pip install jax \n",
    "  import jax\n",
    "\n",
    "import jax.numpy as jnp\n",
    "try:\n",
    "  import matplotlib.pyplot as plt\n",
    "except ModuleNotFoundError:\n",
    "  %pip install matplotlib \n",
    "  import matplotlib.pyplot as plt\n",
    "\n",
    "key = jax.random.PRNGKey(42)\n",
    "jax.config.update(\"jax_enable_x64\", True)\n",
    "\n",
    "try:\n",
    "  import GPy\n",
    "except ModuleNotFoundError:\n",
    "  %pip install GPy\n",
    "  import GPy\n",
    "\n",
    "try:\n",
    "  from tqdm import tqdm\n",
    "except ModuleNotFoundError:\n",
    "  %pip install tqdm\n",
    "  from tqdm import tqdm\n",
    "\n",
    "\n",
    "try: \n",
    "  import jaxopt\n",
    "except ModuleNotFoundError:\n",
    "  %pip install jaxopt\n",
    "  import jaxopt\n",
    "\n",
    "import optax\n",
    "from sklearn.neighbors import NearestNeighbors\n",
    "import numpy as np\n",
    "import pandas as pd"
   ]
  },
  {
   "cell_type": "code",
   "execution_count": 6,
   "metadata": {},
   "outputs": [],
   "source": [
    "def rbf(x, x_star, len_scale_, varf_):\n",
    "  sqdist = jnp.sum(x**2,1).reshape(-1,1) + jnp.sum(x_star**2,1) - 2*jnp.dot(x, x_star.T)\n",
    "  return varf_*jnp.exp(-.5 * (1/len_scale_) * sqdist)\n",
    "\n",
    "def NLL(theta,x,y):\n",
    "  len_scale_ = jnp.exp(theta[\"log_scale\"])\n",
    "  varf_ = jnp.exp(theta[\"log_varf\"])\n",
    "  k = rbf(x,x,len_scale_, varf_)\n",
    "  k = k + ( jnp.exp(theta[\"log_vary\"]) * jnp.eye(len(x)))\n",
    "  mean_vec= jnp.zeros(y.shape[0])\n",
    "  dist = distrax.MultivariateNormalFullCovariance(mean_vec, k)\n",
    "  dist_logprob = dist.log_prob(y.reshape(-1,))\n",
    " \n",
    "  return -dist_logprob"
   ]
  },
  {
   "cell_type": "code",
   "execution_count": 7,
   "metadata": {},
   "outputs": [],
   "source": [
    "def SGD(x, y, theta, batch_size, alpha, epochs):\n",
    "  nll_epoch = []\n",
    "  nll_grad = []\n",
    "  theta1 = theta\n",
    "  lr = alpha\n",
    "  nll_gradient = jax.jit(jax.grad(NLL, argnums = 0))\n",
    "\n",
    "  \n",
    "  if (len(x) % batch_size  == 0):\n",
    "    num_batches = int(len(x)/batch_size)\n",
    "  else:\n",
    "    num_batches = int((len(x)/batch_size)) + 1\n",
    "\n",
    "  \n",
    "  tx = optax.adam(lr)\n",
    "  neigh = NearestNeighbors(n_neighbors=batch_size, algorithm='kd_tree')\n",
    "  neigh.fit(x)\n",
    "  _,neigh_idx = neigh.kneighbors(x, batch_size)\n",
    "    \n",
    "  for i in range(epochs):\n",
    "    \n",
    "    ## use tfds for shuffling\n",
    "    batch_index = 0\n",
    "    X_, Y_ = jax.random.shuffle(key_, x), jax.random.shuffle(key, y)\n",
    "\n",
    "  \n",
    "    for k in range(num_batches):\n",
    "      opt_state1 = tx.init((theta1[\"log_scale\"]))\n",
    "      opt_state2 = tx.init((theta1[\"log_varf\"]))\n",
    "      opt_state3 = tx.init((theta1[\"log_vary\"]))\n",
    "\n",
    "      ## Random batches\n",
    "      # if batch_index+batch_size > len(X_):\n",
    "      #    X_batch, Y_batch = X_[batch_index:,:], Y_[batch_index:,:]\n",
    "      # else:\n",
    "      #   X_batch, Y_batch = X_[batch_index:batch_index+batch_size,:], Y_[batch_index:batch_index+batch_size,:]\n",
    "      \n",
    "      ## NN batches\n",
    "      center_idx  = jax.random.randint(key_,(1,), 1, len(y))\n",
    "      nn_batch_indices =  neigh_idx[center_idx,]\n",
    "      nn_batch_X  = X[nn_batch_indices,].reshape(-1,1)\n",
    "      nn_batch_y  = Y[nn_batch_indices].reshape(-1,1)\n",
    "\n",
    "      # grads = nll_gradient(theta1, X_batch, Y_batch)\n",
    "      grads = nll_gradient(theta1,  nn_batch_X,  nn_batch_y)\n",
    "\n",
    "\n",
    "      nll_grad.append(2*jnp.log(jnp.linalg.norm(jnp.array([grads[\"log_varf\"],grads[\"log_vary\"]]), ord=2)))\n",
    "      # updates1,opt_state1 = tx.update(grads[\"log_scale\"], opt_state1)\n",
    "      # theta1[\"log_scale\"] = optax.apply_updates((theta1[\"log_scale\"]), updates1)\n",
    "      updates2,opt_state2 = tx.update(((batch_size*grads[\"log_varf\"])/(3*jnp.log(batch_size))), opt_state2)\n",
    "      theta1[\"log_varf\"] = optax.apply_updates((theta1[\"log_varf\"]), updates2)\n",
    "      updates3,opt_state3 = tx.update(grads[\"log_vary\"], opt_state3)\n",
    "      theta1[\"log_vary\"] = optax.apply_updates((theta1[\"log_vary\"]), updates3)\n",
    "\n",
    "      nll_epoch.append(NLL(theta1,X_, Y_))\n",
    "\n",
    "      # lr = lr/(k+1)\n",
    "\n",
    "\n",
    "  print(NLL(theta1,X_, Y_))\n",
    "  print(jnp.exp(theta1[\"log_scale\"]), jnp.exp(theta1[\"log_varf\"]), jnp.exp(theta1[\"log_vary\"]))\n",
    "\n",
    "  return nll_epoch, nll_grad\n"
   ]
  },
  {
   "cell_type": "code",
   "execution_count": 14,
   "metadata": {},
   "outputs": [
    {
     "name": "stderr",
     "output_type": "stream",
     "text": [
      "  0%|          | 0/10 [00:00<?, ?it/s] /home/userass/anaconda3/envs/DeepGP/lib/python3.10/site-packages/jax/_src/random.py:372: FutureWarning:jax.random.shuffle is deprecated and will be removed in a future release. Use jax.random.permutation with independent=True.\n",
      " 10%|█         | 1/10 [01:50<16:36, 110.71s/it]"
     ]
    },
    {
     "name": "stdout",
     "output_type": "stream",
     "text": [
      "3374.8667305160566\n",
      "0.5 328300071.1242696 3.000002892775352\n"
     ]
    },
    {
     "name": "stderr",
     "output_type": "stream",
     "text": [
      " /home/userass/anaconda3/envs/DeepGP/lib/python3.10/site-packages/jax/_src/random.py:372: FutureWarning:jax.random.shuffle is deprecated and will be removed in a future release. Use jax.random.permutation with independent=True.\n",
      " 20%|██        | 2/10 [03:09<12:17, 92.21s/it] "
     ]
    },
    {
     "name": "stdout",
     "output_type": "stream",
     "text": [
      "2558.6704762131826\n",
      "0.5 5.000017395575861 3.00000233352998\n"
     ]
    },
    {
     "name": "stderr",
     "output_type": "stream",
     "text": [
      " /home/userass/anaconda3/envs/DeepGP/lib/python3.10/site-packages/jax/_src/random.py:372: FutureWarning:jax.random.shuffle is deprecated and will be removed in a future release. Use jax.random.permutation with independent=True.\n",
      " 30%|███       | 3/10 [04:59<11:41, 100.16s/it]"
     ]
    },
    {
     "name": "stdout",
     "output_type": "stream",
     "text": [
      "2084.1664069659028\n",
      "0.5 5.0000177984088685 3.0000022857024784\n"
     ]
    },
    {
     "name": "stderr",
     "output_type": "stream",
     "text": [
      " /home/userass/anaconda3/envs/DeepGP/lib/python3.10/site-packages/jax/_src/random.py:372: FutureWarning:jax.random.shuffle is deprecated and will be removed in a future release. Use jax.random.permutation with independent=True.\n",
      " 40%|████      | 4/10 [06:55<10:37, 106.24s/it]"
     ]
    },
    {
     "name": "stdout",
     "output_type": "stream",
     "text": [
      "2733.9515850631115\n",
      "0.5 328300212.1517931 3.0000028817983835\n"
     ]
    },
    {
     "name": "stderr",
     "output_type": "stream",
     "text": [
      " /home/userass/anaconda3/envs/DeepGP/lib/python3.10/site-packages/jax/_src/random.py:372: FutureWarning:jax.random.shuffle is deprecated and will be removed in a future release. Use jax.random.permutation with independent=True.\n",
      " 50%|█████     | 5/10 [08:58<09:21, 112.32s/it]"
     ]
    },
    {
     "name": "stdout",
     "output_type": "stream",
     "text": [
      "2888.3782515089415\n",
      "0.5 328300149.270287 3.000002778052543\n"
     ]
    },
    {
     "name": "stderr",
     "output_type": "stream",
     "text": [
      " /home/userass/anaconda3/envs/DeepGP/lib/python3.10/site-packages/jax/_src/random.py:372: FutureWarning:jax.random.shuffle is deprecated and will be removed in a future release. Use jax.random.permutation with independent=True.\n",
      " 60%|██████    | 6/10 [10:08<06:31, 97.88s/it] "
     ]
    },
    {
     "name": "stdout",
     "output_type": "stream",
     "text": [
      "2421.6552221719576\n",
      "0.5 5.000015319034816 3.0000024950972697\n"
     ]
    },
    {
     "name": "stderr",
     "output_type": "stream",
     "text": [
      " /home/userass/anaconda3/envs/DeepGP/lib/python3.10/site-packages/jax/_src/random.py:372: FutureWarning:jax.random.shuffle is deprecated and will be removed in a future release. Use jax.random.permutation with independent=True.\n",
      " 70%|███████   | 7/10 [11:11<04:20, 86.77s/it]"
     ]
    },
    {
     "name": "stdout",
     "output_type": "stream",
     "text": [
      "2856.597745313764\n",
      "0.5 328298762.8259116 3.0000027326545866\n"
     ]
    },
    {
     "name": "stderr",
     "output_type": "stream",
     "text": [
      " /home/userass/anaconda3/envs/DeepGP/lib/python3.10/site-packages/jax/_src/random.py:372: FutureWarning:jax.random.shuffle is deprecated and will be removed in a future release. Use jax.random.permutation with independent=True.\n",
      " 80%|████████  | 8/10 [12:07<02:33, 76.94s/it]"
     ]
    },
    {
     "name": "stdout",
     "output_type": "stream",
     "text": [
      "2227.840580481402\n",
      "0.5 5.000036815420074 3.000002727257267\n"
     ]
    },
    {
     "name": "stderr",
     "output_type": "stream",
     "text": [
      " /home/userass/anaconda3/envs/DeepGP/lib/python3.10/site-packages/jax/_src/random.py:372: FutureWarning:jax.random.shuffle is deprecated and will be removed in a future release. Use jax.random.permutation with independent=True.\n",
      " 90%|█████████ | 9/10 [12:51<01:06, 66.41s/it]"
     ]
    },
    {
     "name": "stdout",
     "output_type": "stream",
     "text": [
      "2817.7751436883027\n",
      "0.5 328300124.50776756 3.0000026234598782\n"
     ]
    },
    {
     "name": "stderr",
     "output_type": "stream",
     "text": [
      " /home/userass/anaconda3/envs/DeepGP/lib/python3.10/site-packages/jax/_src/random.py:372: FutureWarning:jax.random.shuffle is deprecated and will be removed in a future release. Use jax.random.permutation with independent=True.\n",
      "100%|██████████| 10/10 [14:14<00:00, 85.47s/it]"
     ]
    },
    {
     "name": "stdout",
     "output_type": "stream",
     "text": [
      "2593.583979756573\n",
      "0.5 5.000017513160889 3.0000024783241126\n"
     ]
    },
    {
     "name": "stderr",
     "output_type": "stream",
     "text": [
      "\n",
      "  0%|          | 0/10 [00:00<?, ?it/s] /home/userass/anaconda3/envs/DeepGP/lib/python3.10/site-packages/jax/_src/random.py:372: FutureWarning:jax.random.shuffle is deprecated and will be removed in a future release. Use jax.random.permutation with independent=True.\n",
      " 10%|█         | 1/10 [01:54<17:11, 114.65s/it]"
     ]
    },
    {
     "name": "stdout",
     "output_type": "stream",
     "text": [
      "3374.8650848348966\n",
      "0.5 328301114.1559144 3.000010072110068\n"
     ]
    },
    {
     "name": "stderr",
     "output_type": "stream",
     "text": [
      " /home/userass/anaconda3/envs/DeepGP/lib/python3.10/site-packages/jax/_src/random.py:372: FutureWarning:jax.random.shuffle is deprecated and will be removed in a future release. Use jax.random.permutation with independent=True.\n",
      " 20%|██        | 2/10 [04:11<17:01, 127.65s/it]"
     ]
    },
    {
     "name": "stdout",
     "output_type": "stream",
     "text": [
      "2558.6693405826545\n",
      "0.5 5.000089031770003 3.000010282144494\n"
     ]
    },
    {
     "name": "stderr",
     "output_type": "stream",
     "text": [
      " /home/userass/anaconda3/envs/DeepGP/lib/python3.10/site-packages/jax/_src/random.py:372: FutureWarning:jax.random.shuffle is deprecated and will be removed in a future release. Use jax.random.permutation with independent=True.\n",
      " 30%|███       | 3/10 [06:02<14:01, 120.19s/it]"
     ]
    },
    {
     "name": "stdout",
     "output_type": "stream",
     "text": [
      "2084.1665346635455\n",
      "0.5 5.000082190553892 3.000009229163578\n"
     ]
    },
    {
     "name": "stderr",
     "output_type": "stream",
     "text": [
      " /home/userass/anaconda3/envs/DeepGP/lib/python3.10/site-packages/jax/_src/random.py:372: FutureWarning:jax.random.shuffle is deprecated and will be removed in a future release. Use jax.random.permutation with independent=True.\n",
      " 40%|████      | 4/10 [08:06<12:10, 121.80s/it]"
     ]
    },
    {
     "name": "stdout",
     "output_type": "stream",
     "text": [
      "2733.951221794359\n",
      "0.5 328300137.856743 3.0000115841759816\n"
     ]
    },
    {
     "name": "stderr",
     "output_type": "stream",
     "text": [
      " /home/userass/anaconda3/envs/DeepGP/lib/python3.10/site-packages/jax/_src/random.py:372: FutureWarning:jax.random.shuffle is deprecated and will be removed in a future release. Use jax.random.permutation with independent=True.\n",
      " 50%|█████     | 5/10 [09:41<09:19, 111.89s/it]"
     ]
    },
    {
     "name": "stdout",
     "output_type": "stream",
     "text": [
      "2888.3774277192724\n",
      "0.5 328301352.58555776 3.000012449634308\n"
     ]
    },
    {
     "name": "stderr",
     "output_type": "stream",
     "text": [
      " /home/userass/anaconda3/envs/DeepGP/lib/python3.10/site-packages/jax/_src/random.py:372: FutureWarning:jax.random.shuffle is deprecated and will be removed in a future release. Use jax.random.permutation with independent=True.\n",
      " 60%|██████    | 6/10 [11:21<07:11, 107.87s/it]"
     ]
    },
    {
     "name": "stdout",
     "output_type": "stream",
     "text": [
      "2421.6544562472163\n",
      "0.5 5.000075906432183 3.0000102517910703\n"
     ]
    },
    {
     "name": "stderr",
     "output_type": "stream",
     "text": [
      " /home/userass/anaconda3/envs/DeepGP/lib/python3.10/site-packages/jax/_src/random.py:372: FutureWarning:jax.random.shuffle is deprecated and will be removed in a future release. Use jax.random.permutation with independent=True.\n",
      " 70%|███████   | 7/10 [12:53<05:07, 102.61s/it]"
     ]
    },
    {
     "name": "stdout",
     "output_type": "stream",
     "text": [
      "2272.6446049848864\n",
      "0.5 5.000175001095661 3.0000105653218347\n"
     ]
    },
    {
     "name": "stderr",
     "output_type": "stream",
     "text": [
      " /home/userass/anaconda3/envs/DeepGP/lib/python3.10/site-packages/jax/_src/random.py:372: FutureWarning:jax.random.shuffle is deprecated and will be removed in a future release. Use jax.random.permutation with independent=True.\n",
      " 80%|████████  | 8/10 [15:41<04:06, 123.47s/it]"
     ]
    },
    {
     "name": "stdout",
     "output_type": "stream",
     "text": [
      "2227.840507547892\n",
      "0.5 5.000221109398419 3.0000121450074757\n"
     ]
    },
    {
     "name": "stderr",
     "output_type": "stream",
     "text": [
      " /home/userass/anaconda3/envs/DeepGP/lib/python3.10/site-packages/jax/_src/random.py:372: FutureWarning:jax.random.shuffle is deprecated and will be removed in a future release. Use jax.random.permutation with independent=True.\n",
      " 90%|█████████ | 9/10 [17:28<01:58, 118.53s/it]"
     ]
    },
    {
     "name": "stdout",
     "output_type": "stream",
     "text": [
      "2817.774668142243\n",
      "0.5 328301192.94449574 3.000012096507265\n"
     ]
    },
    {
     "name": "stderr",
     "output_type": "stream",
     "text": [
      " /home/userass/anaconda3/envs/DeepGP/lib/python3.10/site-packages/jax/_src/random.py:372: FutureWarning:jax.random.shuffle is deprecated and will be removed in a future release. Use jax.random.permutation with independent=True.\n",
      "100%|██████████| 10/10 [19:06<00:00, 114.63s/it]"
     ]
    },
    {
     "name": "stdout",
     "output_type": "stream",
     "text": [
      "2593.5829918824898\n",
      "0.5 5.000079751820921 3.000008999508755\n"
     ]
    },
    {
     "name": "stderr",
     "output_type": "stream",
     "text": [
      "\n",
      "  0%|          | 0/10 [00:00<?, ?it/s] /home/userass/anaconda3/envs/DeepGP/lib/python3.10/site-packages/jax/_src/random.py:372: FutureWarning:jax.random.shuffle is deprecated and will be removed in a future release. Use jax.random.permutation with independent=True.\n",
      " 10%|█         | 1/10 [03:10<28:36, 190.70s/it]"
     ]
    },
    {
     "name": "stdout",
     "output_type": "stream",
     "text": [
      "3374.856515074001\n",
      "0.5 328305536.3873591 3.0000464822002066\n"
     ]
    },
    {
     "name": "stderr",
     "output_type": "stream",
     "text": [
      " /home/userass/anaconda3/envs/DeepGP/lib/python3.10/site-packages/jax/_src/random.py:372: FutureWarning:jax.random.shuffle is deprecated and will be removed in a future release. Use jax.random.permutation with independent=True.\n",
      " 20%|██        | 2/10 [06:06<24:15, 181.97s/it]"
     ]
    },
    {
     "name": "stdout",
     "output_type": "stream",
     "text": [
      "2558.6650637713474\n",
      "0.5 5.000535274644621 3.0000429490960303\n"
     ]
    },
    {
     "name": "stderr",
     "output_type": "stream",
     "text": [
      " /home/userass/anaconda3/envs/DeepGP/lib/python3.10/site-packages/jax/_src/random.py:372: FutureWarning:jax.random.shuffle is deprecated and will be removed in a future release. Use jax.random.permutation with independent=True.\n",
      " 30%|███       | 3/10 [09:00<20:47, 178.26s/it]"
     ]
    },
    {
     "name": "stdout",
     "output_type": "stream",
     "text": [
      "2084.1670680134666\n",
      "0.5 5.00034349991375 3.000035454953396\n"
     ]
    },
    {
     "name": "stderr",
     "output_type": "stream",
     "text": [
      " /home/userass/anaconda3/envs/DeepGP/lib/python3.10/site-packages/jax/_src/random.py:372: FutureWarning:jax.random.shuffle is deprecated and will be removed in a future release. Use jax.random.permutation with independent=True.\n",
      " 40%|████      | 4/10 [11:59<17:51, 178.63s/it]"
     ]
    },
    {
     "name": "stdout",
     "output_type": "stream",
     "text": [
      "2175.716175489045\n",
      "0.5 5.001479323840339 3.0000470152315253\n"
     ]
    },
    {
     "name": "stderr",
     "output_type": "stream",
     "text": [
      " /home/userass/anaconda3/envs/DeepGP/lib/python3.10/site-packages/jax/_src/random.py:372: FutureWarning:jax.random.shuffle is deprecated and will be removed in a future release. Use jax.random.permutation with independent=True.\n",
      " 50%|█████     | 5/10 [14:49<14:37, 175.44s/it]"
     ]
    },
    {
     "name": "stdout",
     "output_type": "stream",
     "text": [
      "2363.2327714532053\n",
      "0.5 5.000088727160153 3.0000520713119605\n"
     ]
    },
    {
     "name": "stderr",
     "output_type": "stream",
     "text": [
      " /home/userass/anaconda3/envs/DeepGP/lib/python3.10/site-packages/jax/_src/random.py:372: FutureWarning:jax.random.shuffle is deprecated and will be removed in a future release. Use jax.random.permutation with independent=True.\n",
      " 60%|██████    | 6/10 [17:38<11:32, 173.14s/it]"
     ]
    },
    {
     "name": "stdout",
     "output_type": "stream",
     "text": [
      "2421.6511153666447\n",
      "0.5 5.0003471619061335 3.0000442508422136\n"
     ]
    },
    {
     "name": "stderr",
     "output_type": "stream",
     "text": [
      " /home/userass/anaconda3/envs/DeepGP/lib/python3.10/site-packages/jax/_src/random.py:372: FutureWarning:jax.random.shuffle is deprecated and will be removed in a future release. Use jax.random.permutation with independent=True.\n",
      " 70%|███████   | 7/10 [20:35<08:43, 174.51s/it]"
     ]
    },
    {
     "name": "stdout",
     "output_type": "stream",
     "text": [
      "2272.6434281572606\n",
      "0.5 5.000335185737585 3.0000332463116703\n"
     ]
    },
    {
     "name": "stderr",
     "output_type": "stream",
     "text": [
      " /home/userass/anaconda3/envs/DeepGP/lib/python3.10/site-packages/jax/_src/random.py:372: FutureWarning:jax.random.shuffle is deprecated and will be removed in a future release. Use jax.random.permutation with independent=True.\n",
      " 80%|████████  | 8/10 [24:13<06:16, 188.42s/it]"
     ]
    },
    {
     "name": "stdout",
     "output_type": "stream",
     "text": [
      "2227.889579841407\n",
      "0.5 5.021007038979133 3.00004940948032\n"
     ]
    },
    {
     "name": "stderr",
     "output_type": "stream",
     "text": [
      " /home/userass/anaconda3/envs/DeepGP/lib/python3.10/site-packages/jax/_src/random.py:372: FutureWarning:jax.random.shuffle is deprecated and will be removed in a future release. Use jax.random.permutation with independent=True.\n",
      " 90%|█████████ | 9/10 [27:08<03:04, 184.14s/it]"
     ]
    },
    {
     "name": "stdout",
     "output_type": "stream",
     "text": [
      "2817.772466746769\n",
      "0.5 328305723.54740024 3.000053360457389\n"
     ]
    },
    {
     "name": "stderr",
     "output_type": "stream",
     "text": [
      " /home/userass/anaconda3/envs/DeepGP/lib/python3.10/site-packages/jax/_src/random.py:372: FutureWarning:jax.random.shuffle is deprecated and will be removed in a future release. Use jax.random.permutation with independent=True.\n",
      "100%|██████████| 10/10 [30:33<00:00, 183.33s/it]"
     ]
    },
    {
     "name": "stdout",
     "output_type": "stream",
     "text": [
      "2593.5789755986816\n",
      "0.5 5.00035897414423 3.000035919613483\n"
     ]
    },
    {
     "name": "stderr",
     "output_type": "stream",
     "text": [
      "\n"
     ]
    },
    {
     "data": {
      "image/png": "[encoded data removed]",
      "text/plain": [
       "<Figure size 4320x864 with 3 Axes>"
      ]
     },
     "metadata": {
      "needs_background": "light"
     },
     "output_type": "display_data"
    }
   ],
   "source": [
    "batch_sizes = [64,32,16]\n",
    "N = 1024\n",
    "alpha_arr = 9\n",
    "\n",
    "fig,ax = plt.subplots(1,3,figsize=(60,12))\n",
    "\n",
    "seed = np.random.randint(100, size=10)\n",
    "\n",
    "for  j in range(3):\n",
    "  gradient = []\n",
    "  for t in tqdm(range(10)):\n",
    "    theta_init = {\"log_varf\": jnp.log(5.),\"log_vary\": jnp.log(3.),\"log_scale\": jnp.log(0.5)}\n",
    "    theta_ = theta_init\n",
    "    alpha_ = alpha_arr\n",
    "\n",
    "    key_ = jax.random.PRNGKey(seed[t])\n",
    "\n",
    "    X_dist = distrax.Normal(0.0,5.0)\n",
    "    X = X_dist.sample(seed=key_, sample_shape = (1024,)).reshape(-1,1)\n",
    "    # print(X.shape)\n",
    "\n",
    "    varf = 4.0\n",
    "    len_scale = 0.5\n",
    "    vary = 1.0\n",
    "\n",
    "    cov = rbf(X, X, len_scale,  varf)  +   vary * jnp.eye(len(X))\n",
    "    mean_vec = jnp.zeros(1024,)\n",
    "    Y_dist = distrax.MultivariateNormalFullCovariance(mean_vec, cov)\n",
    "    Y = Y_dist.sample(seed=key).reshape(-1,1)\n",
    "    # print(Y.shape)\n",
    "\n",
    "    loss, l2_grad = SGD(X, Y, theta_, batch_sizes[j], alpha_, 25)\n",
    "    gradient.append(l2_grad)\n",
    "\n",
    "  std = jnp.std(jnp.array(gradient), axis=0)\n",
    "  mean = jnp.mean(jnp.array(gradient), axis=0)\n",
    "  mean_s = pd.Series(mean).rolling(5).mean()[5:]\n",
    "  std_s = pd.Series(std).rolling(5).mean()[5:]\n",
    "  ax[j].plot(mean_s, 'b')\n",
    "  ax[j].fill_between(range(len(mean_s)),mean_s-std_s, mean_s+std_s, alpha=0.5)\n",
    "  ax[j].set_xlabel('Iteration (k)')\n",
    "  ax[j].set_ylabel('log(del(L(O(k)))')\n",
    "  ax[j].set_title(f'(m= {batch_sizes[j]})')\n",
    "  ax[j].set_yticks([-4,-5,-6,-7,-8,-9])\n",
    "  ax[j].set_ylim([-10,-2])\n",
    "\n",
    "plt.savefig('figure2.png')"
   ]
  }
 ],
 "metadata": {
  "kernelspec": {
   "display_name": "Python 3.10.4 ('DeepGP')",
   "language": "python",
   "name": "python3"
  },
  "language_info": {
   "codemirror_mode": {
    "name": "ipython",
    "version": 3
   },
   "file_extension": ".py",
   "mimetype": "text/x-python",
   "name": "python",
   "nbconvert_exporter": "python",
   "pygments_lexer": "ipython3",
   "version": "3.10.4"
  },
  "orig_nbformat": 4,
  "vscode": {
   "interpreter": {
    "hash": "bac5cd8369f2802fee00999ac38f86cf956374f566eef0e0f4f3a44739612455"
   }
  }
 },
 "nbformat": 4,
 "nbformat_minor": 2
}
