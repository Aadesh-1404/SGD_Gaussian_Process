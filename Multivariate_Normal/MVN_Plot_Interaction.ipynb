{
  "cells": [
    {
      "cell_type": "markdown",
      "metadata": {
        "id": "3kvIlLshFtrA"
      },
      "source": [
        "## Task1: Animate bivariate normal distribution. "
      ]
    },
    {
      "cell_type": "code",
      "execution_count": 1,
      "metadata": {
        "id": "zPAzdLgnFgTT"
      },
      "outputs": [],
      "source": [
        "import jax\n",
        "from jax import numpy as jnp\n",
        "from jax.scipy.stats import multivariate_normal\n",
        "from matplotlib import cm\n",
        "import matplotlib.pyplot as plt\n",
        "from matplotlib.patches import Ellipse\n",
        "import matplotlib.transforms as transforms\n",
        "import mpl_toolkits.mplot3d.art3d as art3d\n",
        "import numpy as np\n",
        "import seaborn as sns"
      ]
    },
    {
      "cell_type": "markdown",
      "metadata": {
        "id": "w7JNGxb8L92-"
      },
      "source": [
        "Defining gaussian distribution"
      ]
    },
    {
      "cell_type": "code",
      "execution_count": null,
      "metadata": {
        "colab": {
          "base_uri": "https://localhost:8080/"
        },
        "id": "Y8w1JMJMF1C7",
        "outputId": "e4d9ac61-032d-4843-c06c-822842a98602"
      },
      "outputs": [],
      "source": [
        "mean = jnp.array([0,0])\n",
        "covariance = jnp.array([[1,0.6],[0.6,2]])\n",
        "X = jnp.arange(-5.0,5.0,0.1)\n",
        "Y = jnp.arange(-5.0,5.0,0.1) "
      ]
    },
    {
      "cell_type": "code",
      "execution_count": 3,
      "metadata": {
        "id": "oOw9MDCIF3b1"
      },
      "outputs": [],
      "source": [
        "X_pdf =  multivariate_normal.pdf(X,mean[0],jnp.sqrt(covariance[0,0]))\n",
        "Y_pdf =  multivariate_normal.pdf(Y,mean[1],jnp.sqrt(covariance[1,1]))"
      ]
    },
    {
      "cell_type": "markdown",
      "metadata": {
        "id": "I-tswxb-MI_c"
      },
      "source": [
        "Creating samples"
      ]
    },
    {
      "cell_type": "code",
      "execution_count": null,
      "metadata": {
        "colab": {
          "base_uri": "https://localhost:8080/",
          "height": 283
        },
        "id": "ywkp2ItwF3yn",
        "outputId": "680f1c8a-24f8-4f3a-9201-68d1b15c40f0"
      },
      "outputs": [],
      "source": [
        "sample = jax.random.multivariate_normal(jax.random.PRNGKey(42),mean,covariance,shape = [10000,])\n",
        "plt.scatter(sample[:,0],sample[:,1],marker = '*')"
      ]
    },
    {
      "cell_type": "markdown",
      "metadata": {
        "id": "1IYPrQL0MLG2"
      },
      "source": [
        " 3 sigma ellipse using eigenvalues and eigenvactors"
      ]
    },
    {
      "cell_type": "code",
      "execution_count": 5,
      "metadata": {
        "id": "OE9CUwbtGBtW"
      },
      "outputs": [],
      "source": [
        "def sigma_ellipse(sample):\n",
        "  fig, ax = plt.subplots(1,1)\n",
        "\n",
        "  sc = ax.scatter(sample[:,0],sample[:,1],marker = '*')\n",
        "\n",
        "  eigenvalues,eigenvectors = jnp.linalg.eig(covariance)\n",
        "  eigenvalues = jnp.real(eigenvalues)\n",
        "  eigenvectors = jnp.real(eigenvectors)\n",
        "\n",
        "  largest_index= jnp.argmax(eigenvalues)\n",
        "  largest_eigenvector = eigenvectors[:,largest_index]\n",
        "  largest_eigenvalue = max(eigenvalues)\n",
        "\n",
        "  smallest_index = jnp.argmin(eigenvalues)\n",
        "  smallest_eigenvector =  eigenvectors[:,smallest_index]\n",
        "  smallest_eigenvalue =  min(eigenvalues)\n",
        "\n",
        "  angle = jnp.arctan2(largest_eigenvector[1], largest_eigenvector[0])\n",
        "\n",
        "  if(angle < 0):\n",
        "    angle = angle + 2*jnp.pi\n",
        "\n",
        "  theta_grid = jnp.linspace(0,2*jnp.pi)\n",
        "  phi = angle\n",
        "  ellipse_radius_a= 3*jnp.sqrt(covariance[0,0])*jnp.sqrt(largest_eigenvalue)\n",
        "  ellipse_radius_b= 3*jnp.sqrt(covariance[1,1])*jnp.sqrt(smallest_eigenvalue)\n",
        "\n",
        "  ellipse_x_r  = ellipse_radius_a*jnp.cos( theta_grid)\n",
        "  ellipse_y_r  = ellipse_radius_b*jnp.sin( theta_grid)\n",
        "\n",
        "  R = jnp.array([[jnp.cos(phi), jnp.sin(phi)],[ -jnp.sin(phi), jnp.cos(phi)]])\n",
        "\n",
        "  radius_vector = jnp.array([ellipse_x_r, ellipse_y_r])\n",
        "  radius_ellipse = jnp.dot(np.transpose(radius_vector),R)\n",
        "\n",
        "  ax.plot(radius_ellipse[:,0],radius_ellipse[:,1],c = 'r')\n",
        "\n",
        "  return radius_ellipse"
      ]
    },
    {
      "cell_type": "code",
      "execution_count": 6,
      "metadata": {
        "id": "dVRxOLm-GOF7"
      },
      "outputs": [],
      "source": [
        "def mvn_plot(sample,radius_ellipse,X,Y,X_pdf,Y_pdf):\n",
        "  fig = plt.figure()\n",
        "  ax = fig.add_subplot(projection='3d')\n",
        "\n",
        "  ax.set_xlabel(\"x\")\n",
        "\n",
        "  ax.set_ylabel(\"y\")\n",
        "\n",
        "  ax.set_zlabel(\"z\")\n",
        "\n",
        "  ax.scatter3D(sample[:,0],sample[:,1],zs=0,zdir='z',marker = '*')\n",
        "\n",
        "  ax.plot(radius_ellipse[:,1],radius_ellipse[:,0],c = 'r')\n",
        "\n",
        "  hist_x,edges_x =  jnp.histogram(sample[:,0],20,density = True)\n",
        "  hist_y,edges_y = jnp.histogram(sample[:,1],20,density = True)\n",
        "\n",
        "  ax.plot(X,X_pdf,zs=-7, zdir='y')\n",
        "  ax.bar(edges_x[:20,],hist_x,zs=-7,  zdir='y', color = 'black' ,fill = False,alpha = 0.7)\n",
        "\n",
        "  ax.plot(Y,Y_pdf, zs=-5, zdir='x')\n",
        "  ax.bar(edges_y[:20,],hist_y,zs=-5,  zdir='x', color = 'black',fill = False,alpha = 0.7)\n",
        "  ax.view_init(elev=45., azim=55)\n",
        "\n",
        "  ax.set_title(\"Multivariate Normal Distribution\")\n",
        "  ax.set_xlabel(\"X\")\n",
        "  ax.set_ylabel(\"Y\")\n",
        "  ax.set_zlabel(\"p(Y)\")\n",
        "  ax.set_xlim(-5,5)\n",
        "  ax.set_ylim(-7,6)\n",
        "  sns.despine()\n",
        "  plt.show()\n",
        "  return fig, ax\n",
        "  # fig.savefig(\"Multivariate Normal Distribution\")"
      ]
    },
    {
      "cell_type": "markdown",
      "metadata": {
        "id": "Fr2yJMnpMdXv"
      },
      "source": [
        "Creating interact by varying the random state, number of samples, mean and covariance"
      ]
    },
    {
      "cell_type": "code",
      "execution_count": null,
      "metadata": {
        "colab": {
          "base_uri": "https://localhost:8080/",
          "height": 642,
          "referenced_widgets": [
            "8a58c6aa3b074790b016b38f77ef6b38",
            "90108a4dd2c44cc59bf526c968664971",
            "18f0937420ce48e0bd7f0850d633a29c",
            "2bb800610b124b3a9186d4de50cde776",
            "132dac42cc4f4edda45234fab4d8d80a",
            "25dc901963004a3283cc4c19e604cbf0",
            "1beb6faa38404f939ec2a37721d19351",
            "849108b957de4920b04867ee929d8583",
            "91a5e8747a274b398020244dcc81658e",
            "89bbfdfbf5d3453685d8a5c6836783e2",
            "196be65984ed46ad8169feee9471d36a",
            "fd082e2fe47d4153828ba258c74051e4",
            "0ebc9899c36c44a880d4fe11f82ae3e6",
            "7558e4ca40ab44d6a3519f04de3739bc",
            "4874b089159c4bc89a8dacdbf578c36d",
            "3ef7f24eb416422398d7b31ce84216d9"
          ]
        },
        "id": "sEH-0HchGmFb",
        "outputId": "54432dba-cfcc-41fa-ed36-53f65fefb2a4"
      },
      "outputs": [],
      "source": [
        "from ipywidgets import interact\n",
        "\n",
        "@interact(random_state=(1, 10),N=(1000,10000,200),k=(0,1,0.2),u=(0,2,0.2))\n",
        "def generate_random(random_state, N,k,u):\n",
        "    key = jax.random.PRNGKey(random_state)\n",
        "    mean=jnp.array([k,u])\n",
        "    covariance=jnp.array([[1,k],[k,2]])\n",
        "    X = jnp.arange(-5.0,5.0,0.1)\n",
        "    Y = jnp.arange(-5.0,5.0,0.1) \n",
        "    X_pdf =  multivariate_normal.pdf(X,mean[0],jnp.sqrt(covariance[0,0]))\n",
        "    Y_pdf =  multivariate_normal.pdf(Y,mean[1],jnp.sqrt(covariance[1,1]))\n",
        "    sample = jax.random.multivariate_normal(key,mean,covariance,shape = [N,])\n",
        "    radius_ellipse = sigma_ellipse(sample)\n",
        "    fig, ax = mvn_plot(sample,radius_ellipse,X,Y,X_pdf,Y_pdf)\n",
        "    sns.despine()\n",
        "    ax.set_yticks(jnp.linspace(0, 1, 11))"
      ]
    },
    {
      "cell_type": "markdown",
      "metadata": {
        "id": "JFRiFmXYNDd4"
      },
      "source": [
        "sns plot"
      ]
    },
    {
      "cell_type": "code",
      "execution_count": null,
      "metadata": {
        "colab": {
          "base_uri": "https://localhost:8080/",
          "height": 689
        },
        "id": "t2qYWfZUI7k1",
        "outputId": "8cc95fa4-1d5f-4f36-be4d-d000ccfe7dc2"
      },
      "outputs": [],
      "source": [
        "radius_ellipse = sigma_ellipse(sample)\n",
        "ellipse = Ellipse((0, 0), width=radius_ellipse[:,0], height=radius_ellipse[:,1],\n",
        "                  facecolor = 'none',edgecolor = 'red')\n",
        "\n",
        "a = sns.jointplot(x = sample[:,0], y = sample[:,1],\n",
        "              kind = \"reg\", data = sample,fit_reg = False,marginal_kws=dict(bins=20, fill=False))\n",
        "\n",
        "plt.show()"
      ]
    },
    {
      "cell_type": "markdown",
      "metadata": {},
      "source": [
        "## References"
      ]
    },
    {
      "cell_type": "markdown",
      "metadata": {},
      "source": [
        "* https://en.wikipedia.org/wiki/Multivariate_normal_distribution\n",
        "* https://matplotlib.org/stable/gallery/mplot3d/contour3d_3.html\n",
        "* https://www.visiondummy.com/2014/04/draw-error-ellipse-representing-covariance-matrix/\n",
        "* https://datasciencegenie.com/3d-contour-plots-of-bivariate-normal-distribution/"
      ]
    }
  ],
  "metadata": {
    "colab": {
      "name": "Task1_SRIP.ipynb",
      "provenance": []
    },
    "kernelspec": {
      "display_name": "Python 3",
      "name": "python3"
    },
    "language_info": {
      "name": "python"
    },
    "widgets": {
      "application/vnd.jupyter.widget-state+json": {
        "0ebc9899c36c44a880d4fe11f82ae3e6": {
          "model_module": "@jupyter-widgets/controls",
          "model_module_version": "1.5.0",
          "model_name": "SliderStyleModel",
          "state": {
            "_model_module": "@jupyter-widgets/controls",
            "_model_module_version": "1.5.0",
            "_model_name": "SliderStyleModel",
            "_view_count": null,
            "_view_module": "@jupyter-widgets/base",
            "_view_module_version": "1.2.0",
            "_view_name": "StyleView",
            "description_width": "",
            "handle_color": null
          }
        },
        "132dac42cc4f4edda45234fab4d8d80a": {
          "model_module": "@jupyter-widgets/controls",
          "model_module_version": "1.5.0",
          "model_name": "FloatSliderModel",
          "state": {
            "_dom_classes": [],
            "_model_module": "@jupyter-widgets/controls",
            "_model_module_version": "1.5.0",
            "_model_name": "FloatSliderModel",
            "_view_count": null,
            "_view_module": "@jupyter-widgets/controls",
            "_view_module_version": "1.5.0",
            "_view_name": "FloatSliderView",
            "continuous_update": true,
            "description": "u",
            "description_tooltip": null,
            "disabled": false,
            "layout": "IPY_MODEL_7558e4ca40ab44d6a3519f04de3739bc",
            "max": 2,
            "min": 0,
            "orientation": "horizontal",
            "readout": true,
            "readout_format": ".2f",
            "step": 0.2,
            "style": "IPY_MODEL_4874b089159c4bc89a8dacdbf578c36d",
            "value": 1
          }
        },
        "18f0937420ce48e0bd7f0850d633a29c": {
          "model_module": "@jupyter-widgets/controls",
          "model_module_version": "1.5.0",
          "model_name": "IntSliderModel",
          "state": {
            "_dom_classes": [],
            "_model_module": "@jupyter-widgets/controls",
            "_model_module_version": "1.5.0",
            "_model_name": "IntSliderModel",
            "_view_count": null,
            "_view_module": "@jupyter-widgets/controls",
            "_view_module_version": "1.5.0",
            "_view_name": "IntSliderView",
            "continuous_update": true,
            "description": "N",
            "description_tooltip": null,
            "disabled": false,
            "layout": "IPY_MODEL_89bbfdfbf5d3453685d8a5c6836783e2",
            "max": 10000,
            "min": 1000,
            "orientation": "horizontal",
            "readout": true,
            "readout_format": "d",
            "step": 200,
            "style": "IPY_MODEL_196be65984ed46ad8169feee9471d36a",
            "value": 5400
          }
        },
        "196be65984ed46ad8169feee9471d36a": {
          "model_module": "@jupyter-widgets/controls",
          "model_module_version": "1.5.0",
          "model_name": "SliderStyleModel",
          "state": {
            "_model_module": "@jupyter-widgets/controls",
            "_model_module_version": "1.5.0",
            "_model_name": "SliderStyleModel",
            "_view_count": null,
            "_view_module": "@jupyter-widgets/base",
            "_view_module_version": "1.2.0",
            "_view_name": "StyleView",
            "description_width": "",
            "handle_color": null
          }
        },
        "1beb6faa38404f939ec2a37721d19351": {
          "model_module": "@jupyter-widgets/base",
          "model_module_version": "1.2.0",
          "model_name": "LayoutModel",
          "state": {
            "_model_module": "@jupyter-widgets/base",
            "_model_module_version": "1.2.0",
            "_model_name": "LayoutModel",
            "_view_count": null,
            "_view_module": "@jupyter-widgets/base",
            "_view_module_version": "1.2.0",
            "_view_name": "LayoutView",
            "align_content": null,
            "align_items": null,
            "align_self": null,
            "border": null,
            "bottom": null,
            "display": null,
            "flex": null,
            "flex_flow": null,
            "grid_area": null,
            "grid_auto_columns": null,
            "grid_auto_flow": null,
            "grid_auto_rows": null,
            "grid_column": null,
            "grid_gap": null,
            "grid_row": null,
            "grid_template_areas": null,
            "grid_template_columns": null,
            "grid_template_rows": null,
            "height": null,
            "justify_content": null,
            "justify_items": null,
            "left": null,
            "margin": null,
            "max_height": null,
            "max_width": null,
            "min_height": null,
            "min_width": null,
            "object_fit": null,
            "object_position": null,
            "order": null,
            "overflow": null,
            "overflow_x": null,
            "overflow_y": null,
            "padding": null,
            "right": null,
            "top": null,
            "visibility": null,
            "width": null
          }
        },
        "25dc901963004a3283cc4c19e604cbf0": {
          "model_module": "@jupyter-widgets/output",
          "model_module_version": "1.0.0",
          "model_name": "OutputModel",
          "state": {
            "_dom_classes": [],
            "_model_module": "@jupyter-widgets/output",
            "_model_module_version": "1.0.0",
            "_model_name": "OutputModel",
            "_view_count": null,
            "_view_module": "@jupyter-widgets/output",
            "_view_module_version": "1.0.0",
            "_view_name": "OutputView",
            "layout": "IPY_MODEL_3ef7f24eb416422398d7b31ce84216d9",
            "msg_id": "",
            "outputs": [
              {
                "data": {
                  "image/png": "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\n",
                  "text/plain": "<Figure size 432x288 with 1 Axes>"
                },
                "metadata": {
                  "needs_background": "light"
                },
                "output_type": "display_data"
              },
              {
                "data": {
                  "image/png": "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\n",
                  "text/plain": "<Figure size 432x288 with 1 Axes>"
                },
                "metadata": {
                  "needs_background": "light"
                },
                "output_type": "display_data"
              },
              {
                "data": {
                  "text/plain": "<Figure size 432x288 with 0 Axes>"
                },
                "metadata": {},
                "output_type": "display_data"
              }
            ]
          }
        },
        "2bb800610b124b3a9186d4de50cde776": {
          "model_module": "@jupyter-widgets/controls",
          "model_module_version": "1.5.0",
          "model_name": "FloatSliderModel",
          "state": {
            "_dom_classes": [],
            "_model_module": "@jupyter-widgets/controls",
            "_model_module_version": "1.5.0",
            "_model_name": "FloatSliderModel",
            "_view_count": null,
            "_view_module": "@jupyter-widgets/controls",
            "_view_module_version": "1.5.0",
            "_view_name": "FloatSliderView",
            "continuous_update": true,
            "description": "k",
            "description_tooltip": null,
            "disabled": false,
            "layout": "IPY_MODEL_fd082e2fe47d4153828ba258c74051e4",
            "max": 1,
            "min": 0,
            "orientation": "horizontal",
            "readout": true,
            "readout_format": ".2f",
            "step": 0.2,
            "style": "IPY_MODEL_0ebc9899c36c44a880d4fe11f82ae3e6",
            "value": 0
          }
        },
        "3ef7f24eb416422398d7b31ce84216d9": {
          "model_module": "@jupyter-widgets/base",
          "model_module_version": "1.2.0",
          "model_name": "LayoutModel",
          "state": {
            "_model_module": "@jupyter-widgets/base",
            "_model_module_version": "1.2.0",
            "_model_name": "LayoutModel",
            "_view_count": null,
            "_view_module": "@jupyter-widgets/base",
            "_view_module_version": "1.2.0",
            "_view_name": "LayoutView",
            "align_content": null,
            "align_items": null,
            "align_self": null,
            "border": null,
            "bottom": null,
            "display": null,
            "flex": null,
            "flex_flow": null,
            "grid_area": null,
            "grid_auto_columns": null,
            "grid_auto_flow": null,
            "grid_auto_rows": null,
            "grid_column": null,
            "grid_gap": null,
            "grid_row": null,
            "grid_template_areas": null,
            "grid_template_columns": null,
            "grid_template_rows": null,
            "height": null,
            "justify_content": null,
            "justify_items": null,
            "left": null,
            "margin": null,
            "max_height": null,
            "max_width": null,
            "min_height": null,
            "min_width": null,
            "object_fit": null,
            "object_position": null,
            "order": null,
            "overflow": null,
            "overflow_x": null,
            "overflow_y": null,
            "padding": null,
            "right": null,
            "top": null,
            "visibility": null,
            "width": null
          }
        },
        "4874b089159c4bc89a8dacdbf578c36d": {
          "model_module": "@jupyter-widgets/controls",
          "model_module_version": "1.5.0",
          "model_name": "SliderStyleModel",
          "state": {
            "_model_module": "@jupyter-widgets/controls",
            "_model_module_version": "1.5.0",
            "_model_name": "SliderStyleModel",
            "_view_count": null,
            "_view_module": "@jupyter-widgets/base",
            "_view_module_version": "1.2.0",
            "_view_name": "StyleView",
            "description_width": "",
            "handle_color": null
          }
        },
        "7558e4ca40ab44d6a3519f04de3739bc": {
          "model_module": "@jupyter-widgets/base",
          "model_module_version": "1.2.0",
          "model_name": "LayoutModel",
          "state": {
            "_model_module": "@jupyter-widgets/base",
            "_model_module_version": "1.2.0",
            "_model_name": "LayoutModel",
            "_view_count": null,
            "_view_module": "@jupyter-widgets/base",
            "_view_module_version": "1.2.0",
            "_view_name": "LayoutView",
            "align_content": null,
            "align_items": null,
            "align_self": null,
            "border": null,
            "bottom": null,
            "display": null,
            "flex": null,
            "flex_flow": null,
            "grid_area": null,
            "grid_auto_columns": null,
            "grid_auto_flow": null,
            "grid_auto_rows": null,
            "grid_column": null,
            "grid_gap": null,
            "grid_row": null,
            "grid_template_areas": null,
            "grid_template_columns": null,
            "grid_template_rows": null,
            "height": null,
            "justify_content": null,
            "justify_items": null,
            "left": null,
            "margin": null,
            "max_height": null,
            "max_width": null,
            "min_height": null,
            "min_width": null,
            "object_fit": null,
            "object_position": null,
            "order": null,
            "overflow": null,
            "overflow_x": null,
            "overflow_y": null,
            "padding": null,
            "right": null,
            "top": null,
            "visibility": null,
            "width": null
          }
        },
        "849108b957de4920b04867ee929d8583": {
          "model_module": "@jupyter-widgets/base",
          "model_module_version": "1.2.0",
          "model_name": "LayoutModel",
          "state": {
            "_model_module": "@jupyter-widgets/base",
            "_model_module_version": "1.2.0",
            "_model_name": "LayoutModel",
            "_view_count": null,
            "_view_module": "@jupyter-widgets/base",
            "_view_module_version": "1.2.0",
            "_view_name": "LayoutView",
            "align_content": null,
            "align_items": null,
            "align_self": null,
            "border": null,
            "bottom": null,
            "display": null,
            "flex": null,
            "flex_flow": null,
            "grid_area": null,
            "grid_auto_columns": null,
            "grid_auto_flow": null,
            "grid_auto_rows": null,
            "grid_column": null,
            "grid_gap": null,
            "grid_row": null,
            "grid_template_areas": null,
            "grid_template_columns": null,
            "grid_template_rows": null,
            "height": null,
            "justify_content": null,
            "justify_items": null,
            "left": null,
            "margin": null,
            "max_height": null,
            "max_width": null,
            "min_height": null,
            "min_width": null,
            "object_fit": null,
            "object_position": null,
            "order": null,
            "overflow": null,
            "overflow_x": null,
            "overflow_y": null,
            "padding": null,
            "right": null,
            "top": null,
            "visibility": null,
            "width": null
          }
        },
        "89bbfdfbf5d3453685d8a5c6836783e2": {
          "model_module": "@jupyter-widgets/base",
          "model_module_version": "1.2.0",
          "model_name": "LayoutModel",
          "state": {
            "_model_module": "@jupyter-widgets/base",
            "_model_module_version": "1.2.0",
            "_model_name": "LayoutModel",
            "_view_count": null,
            "_view_module": "@jupyter-widgets/base",
            "_view_module_version": "1.2.0",
            "_view_name": "LayoutView",
            "align_content": null,
            "align_items": null,
            "align_self": null,
            "border": null,
            "bottom": null,
            "display": null,
            "flex": null,
            "flex_flow": null,
            "grid_area": null,
            "grid_auto_columns": null,
            "grid_auto_flow": null,
            "grid_auto_rows": null,
            "grid_column": null,
            "grid_gap": null,
            "grid_row": null,
            "grid_template_areas": null,
            "grid_template_columns": null,
            "grid_template_rows": null,
            "height": null,
            "justify_content": null,
            "justify_items": null,
            "left": null,
            "margin": null,
            "max_height": null,
            "max_width": null,
            "min_height": null,
            "min_width": null,
            "object_fit": null,
            "object_position": null,
            "order": null,
            "overflow": null,
            "overflow_x": null,
            "overflow_y": null,
            "padding": null,
            "right": null,
            "top": null,
            "visibility": null,
            "width": null
          }
        },
        "8a58c6aa3b074790b016b38f77ef6b38": {
          "model_module": "@jupyter-widgets/controls",
          "model_module_version": "1.5.0",
          "model_name": "VBoxModel",
          "state": {
            "_dom_classes": [
              "widget-interact"
            ],
            "_model_module": "@jupyter-widgets/controls",
            "_model_module_version": "1.5.0",
            "_model_name": "VBoxModel",
            "_view_count": null,
            "_view_module": "@jupyter-widgets/controls",
            "_view_module_version": "1.5.0",
            "_view_name": "VBoxView",
            "box_style": "",
            "children": [
              "IPY_MODEL_90108a4dd2c44cc59bf526c968664971",
              "IPY_MODEL_18f0937420ce48e0bd7f0850d633a29c",
              "IPY_MODEL_2bb800610b124b3a9186d4de50cde776",
              "IPY_MODEL_132dac42cc4f4edda45234fab4d8d80a",
              "IPY_MODEL_25dc901963004a3283cc4c19e604cbf0"
            ],
            "layout": "IPY_MODEL_1beb6faa38404f939ec2a37721d19351"
          }
        },
        "90108a4dd2c44cc59bf526c968664971": {
          "model_module": "@jupyter-widgets/controls",
          "model_module_version": "1.5.0",
          "model_name": "IntSliderModel",
          "state": {
            "_dom_classes": [],
            "_model_module": "@jupyter-widgets/controls",
            "_model_module_version": "1.5.0",
            "_model_name": "IntSliderModel",
            "_view_count": null,
            "_view_module": "@jupyter-widgets/controls",
            "_view_module_version": "1.5.0",
            "_view_name": "IntSliderView",
            "continuous_update": true,
            "description": "random_state",
            "description_tooltip": null,
            "disabled": false,
            "layout": "IPY_MODEL_849108b957de4920b04867ee929d8583",
            "max": 10,
            "min": 1,
            "orientation": "horizontal",
            "readout": true,
            "readout_format": "d",
            "step": 1,
            "style": "IPY_MODEL_91a5e8747a274b398020244dcc81658e",
            "value": 5
          }
        },
        "91a5e8747a274b398020244dcc81658e": {
          "model_module": "@jupyter-widgets/controls",
          "model_module_version": "1.5.0",
          "model_name": "SliderStyleModel",
          "state": {
            "_model_module": "@jupyter-widgets/controls",
            "_model_module_version": "1.5.0",
            "_model_name": "SliderStyleModel",
            "_view_count": null,
            "_view_module": "@jupyter-widgets/base",
            "_view_module_version": "1.2.0",
            "_view_name": "StyleView",
            "description_width": "",
            "handle_color": null
          }
        },
        "fd082e2fe47d4153828ba258c74051e4": {
          "model_module": "@jupyter-widgets/base",
          "model_module_version": "1.2.0",
          "model_name": "LayoutModel",
          "state": {
            "_model_module": "@jupyter-widgets/base",
            "_model_module_version": "1.2.0",
            "_model_name": "LayoutModel",
            "_view_count": null,
            "_view_module": "@jupyter-widgets/base",
            "_view_module_version": "1.2.0",
            "_view_name": "LayoutView",
            "align_content": null,
            "align_items": null,
            "align_self": null,
            "border": null,
            "bottom": null,
            "display": null,
            "flex": null,
            "flex_flow": null,
            "grid_area": null,
            "grid_auto_columns": null,
            "grid_auto_flow": null,
            "grid_auto_rows": null,
            "grid_column": null,
            "grid_gap": null,
            "grid_row": null,
            "grid_template_areas": null,
            "grid_template_columns": null,
            "grid_template_rows": null,
            "height": null,
            "justify_content": null,
            "justify_items": null,
            "left": null,
            "margin": null,
            "max_height": null,
            "max_width": null,
            "min_height": null,
            "min_width": null,
            "object_fit": null,
            "object_position": null,
            "order": null,
            "overflow": null,
            "overflow_x": null,
            "overflow_y": null,
            "padding": null,
            "right": null,
            "top": null,
            "visibility": null,
            "width": null
          }
        }
      }
    }
  },
  "nbformat": 4,
  "nbformat_minor": 0
}
